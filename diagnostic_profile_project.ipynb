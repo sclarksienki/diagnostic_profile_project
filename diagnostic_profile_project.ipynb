{
 "cells": [
  {
   "cell_type": "markdown",
   "id": "4a32e33a",
   "metadata": {},
   "source": [
    "Building survey to collect measures"
   ]
  },
  {
   "cell_type": "markdown",
   "id": "6e7abed5",
   "metadata": {},
   "source": [
    "Depression: PHQ9"
   ]
  },
  {
   "cell_type": "code",
   "execution_count": null,
   "id": "99614555",
   "metadata": {},
   "outputs": [],
   "source": [
    "#Over the last 2 weeks, how often have you been bothered by any of the following problems?\n",
    "phq9_questions = ['Little interest or pleasure in doing things', \n",
    "        'Feeling down, depressed, or hopeless', \n",
    "        'Trouble falling or staying asleep, or sleeping too much',\n",
    "        'Feeling tired or having little energy', \n",
    "        'Poor appetite or overeating', \n",
    "        'Feeling bad about yourself or that you are a failure or have let yourself or your family down',\n",
    "        'Trouble concentrating on things, such as reading the newspaper or watching television', \n",
    "        'Moving or speaking so slowly that other people could have noticed. Or the opposite being so figety or restless that you have been moving around a lot more than usual',\n",
    "        'Thoughts that you would be better off dead, or of hurting yourself']\n",
    "phq9_response = []\n",
    "phq9_total = 0\n",
    "    \n",
    "def ask_phq9():\n",
    "    global phq9_questions\n",
    "    global phq9_total\n",
    "    for i in range(len(phq9_questions)):\n",
    "        x=input(phq9_questions[i])\n",
    "        if x=='Several days':\n",
    "            phq9_total+=1\n",
    "            phq9_response.append(1)\n",
    "        elif x=='More than half the days':\n",
    "            phq9_total+=2\n",
    "            phq9_response.append(2)\n",
    "        elif x=='Nearly every day':\n",
    "            phq9_total+=3\n",
    "            phq9_response.append(3)\n",
    "        elif x=='Not at all':\n",
    "            phq9_total+=0\n",
    "            phq9_response.append(0)\n",
    "        return\n",
    "    \n",
    "def check_safety():\n",
    "    global phq_response\n",
    "    if phq9_response[8]>0:\n",
    "        return print('Please alert administrator')\n",
    "    else:\n",
    "        return\n",
    "    \n",
    "def score_phq9():\n",
    "    if phq9_total <= 4:\n",
    "        return print('Minimal Depression')\n",
    "    elif phq9_total >4 and phq9_total<=9:\n",
    "        return print('Mild Depression')\n",
    "    elif phq9_total >9 and phq9_total<=14:\n",
    "        return print('Moderate Depression')\n",
    "    elif phq9_total >14 and phq9_total<=19:\n",
    "        return print('Moderatly Severe Depression')\n",
    "    elif phq9_total >19:\n",
    "        return print('Severe Depression')  "
   ]
  },
  {
   "cell_type": "code",
   "execution_count": null,
   "id": "d5e4c0a4",
   "metadata": {},
   "outputs": [],
   "source": [
    "#Hypothetical scores from surveys already built into application\n",
    "\n",
    "WEMWB = 25 #well-being\n",
    "#general psychological distress - i think this can be measured with single question but need to seach files\n",
    "\n",
    "\n",
    "#subcategories\n",
    "GAD7=2 #anxiety\n",
    "PSS = 28 #stress\n",
    "BL_edd_SUM = 0 #chronic discrimination\n",
    "Bl_scchs_tot = #social cohesion and trust\n",
    "\n",
    "#Additional sub categories:\n",
    "#relationship conflict (will need filter)\n",
    "#lonliness\n",
    "#weather or month (seasonal and weather factors)\n",
    "#adverse events/trauma\n",
    "#personality: emotional stability, empathy, self harm, impulsivity\n",
    "#attention\n",
    "#hyperactivity\n",
    "#neurodivergence/adult autism spectrum\n",
    "#big 5 personality"
   ]
  },
  {
   "cell_type": "code",
   "execution_count": null,
   "id": "1c2bea7c",
   "metadata": {},
   "outputs": [],
   "source": [
    "phq9_pop=3 #hypothetical aggregate of total database of clients or average from research study results\n",
    "phq9_sd=0.5 #hypothetical standard devision from database of client or average from research study results\n",
    "#Weight and standardize scores\n",
    "phq9_total_stand = ((phq9_score-phq9_pop)/phq9_sd)#z score calculation"
   ]
  },
  {
   "cell_type": "code",
   "execution_count": null,
   "id": "9329a136",
   "metadata": {},
   "outputs": [],
   "source": [
    "profile_total = phq9_total_stand + #all variables above standardized"
   ]
  },
  {
   "cell_type": "code",
   "execution_count": null,
   "id": "443d73d9",
   "metadata": {},
   "outputs": [],
   "source": [
    "#matplotlib pie chart generation of profile visual"
   ]
  },
  {
   "cell_type": "code",
   "execution_count": null,
   "id": "26bdbf01",
   "metadata": {},
   "outputs": [],
   "source": [
    "#random forest or other classification\n",
    "#What predicts mental health wellbeing and what predicts psychological distress?"
   ]
  }
 ],
 "metadata": {
  "kernelspec": {
   "display_name": "Python 3 (ipykernel)",
   "language": "python",
   "name": "python3"
  },
  "language_info": {
   "codemirror_mode": {
    "name": "ipython",
    "version": 3
   },
   "file_extension": ".py",
   "mimetype": "text/x-python",
   "name": "python",
   "nbconvert_exporter": "python",
   "pygments_lexer": "ipython3",
   "version": "3.10.9"
  }
 },
 "nbformat": 4,
 "nbformat_minor": 5
}
