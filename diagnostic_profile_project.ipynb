{
 "cells": [
  {
   "cell_type": "markdown",
   "id": "6e778e12",
   "metadata": {},
   "source": [
    "Building survey to collect measures"
   ]
  },
  {
   "cell_type": "markdown",
   "id": "12b88f56",
   "metadata": {},
   "source": [
    "Depression: PHQ9"
   ]
  },
  {
   "cell_type": "code",
   "execution_count": null,
   "id": "3331c487",
   "metadata": {},
   "outputs": [],
   "source": [
    "#Over the last 2 weeks, how often have you been bothered by any of the following problems?\n",
    "phq9_questions = ['Little interest or pleasure in doing things', \n",
    "        'Feeling down, depressed, or hopeless', \n",
    "        'Trouble falling or staying asleep, or sleeping too much',\n",
    "        'Feeling tired or having little energy', \n",
    "        'Poor appetite or overeating', \n",
    "        'Feeling bad about yourself or that you are a failure or have let yourself or your family down',\n",
    "        'Trouble concentrating on things, such as reading the newspaper or watching television', \n",
    "        'Moving or speaking so slowly that other people could have noticed. Or the opposite being so figety or restless that you have been moving around a lot more than usual',\n",
    "        'Thoughts that you would be better off dead, or of hurting yourself']\n",
    "phq9_response = []\n",
    "phq9_total = 0\n",
    "    \n",
    "def ask_phq9():\n",
    "    global phq9_questions\n",
    "    global phq9_total\n",
    "    for i in range(len(phq9_questions)):\n",
    "        phq_response[i]=input(phq9_questions[i])\n",
    "        if i=='Several days':\n",
    "            phq9_total+=1\n",
    "            phq9_response.append(1)\n",
    "        elif i=='More than half the days':\n",
    "            phq9_total+=2\n",
    "            phq9_response.append(2)\n",
    "        elif i=='Nearly every day':\n",
    "            phq9_total+=3\n",
    "            phq9_response.append(3)\n",
    "        elif i=='Not at all':\n",
    "            phq9_total+=0\n",
    "            phq9_response.append(0)\n",
    "        return\n",
    "    \n",
    "def check saftey():\n",
    "    global phq_response\n",
    "    if phq9_total[8]>0:\n",
    "        return print('Please alert administrator')\n",
    "    else:\n",
    "        return\n",
    "    \n",
    "def score_phq9():\n",
    "    if phq9_total <= 4:\n",
    "        return print('Minimal Depression')\n",
    "    elif phq9_total >4 and <=9:\n",
    "        return print('Mild Depression')\n",
    "    elif phq9_total >9 and <=14:\n",
    "        return print('Moderate Depression')\n",
    "    elif phq9_total >14 and <=19:\n",
    "        return print('Moderatly Severe Depression')\n",
    "    elif phq9_total >19:\n",
    "        return print('Severe Depression')  "
   ]
  }
 ],
 "metadata": {
  "kernelspec": {
   "display_name": "Python 3 (ipykernel)",
   "language": "python",
   "name": "python3"
  },
  "language_info": {
   "codemirror_mode": {
    "name": "ipython",
    "version": 3
   },
   "file_extension": ".py",
   "mimetype": "text/x-python",
   "name": "python",
   "nbconvert_exporter": "python",
   "pygments_lexer": "ipython3",
   "version": "3.10.9"
  }
 },
 "nbformat": 4,
 "nbformat_minor": 5
}
